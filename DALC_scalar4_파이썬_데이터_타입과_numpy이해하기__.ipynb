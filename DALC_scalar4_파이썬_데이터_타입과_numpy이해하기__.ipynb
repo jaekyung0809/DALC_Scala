{
  "nbformat": 4,
  "nbformat_minor": 0,
  "metadata": {
    "colab": {
      "name": "DALC_scalar4_파이썬_데이터_타입과_numpy이해하기__.ipynb",
      "provenance": [],
      "collapsed_sections": [],
      "include_colab_link": true
    },
    "kernelspec": {
      "name": "python3",
      "display_name": "Python 3"
    },
    "language_info": {
      "name": "python"
    }
  },
  "cells": [
    {
      "cell_type": "markdown",
      "metadata": {
        "id": "view-in-github",
        "colab_type": "text"
      },
      "source": [
        "<a href=\"https://colab.research.google.com/github/jaekyung0809/DALC_Scala/blob/main/DALC_scalar4_%ED%8C%8C%EC%9D%B4%EC%8D%AC_%EB%8D%B0%EC%9D%B4%ED%84%B0_%ED%83%80%EC%9E%85%EA%B3%BC_numpy%EC%9D%B4%ED%95%B4%ED%95%98%EA%B8%B0__.ipynb\" target=\"_parent\"><img src=\"https://colab.research.google.com/assets/colab-badge.svg\" alt=\"Open In Colab\"/></a>"
      ]
    },
    {
      "cell_type": "markdown",
      "metadata": {
        "id": "giYnypId9JKA"
      },
      "source": [
        "# Numpy 기초"
      ]
    },
    {
      "cell_type": "markdown",
      "metadata": {
        "id": "mMuPNu735nzw"
      },
      "source": [
        "## 넘파이 패키지 불러오기"
      ]
    },
    {
      "cell_type": "code",
      "metadata": {
        "id": "R86NUr6E6IxC"
      },
      "source": [
        "# 넘파이 패키지를 불러오기 np로 줄여쓰기# 넘파이 패키지를 불러오기 np로 줄여쓰기\n",
        "import numpy as np"
      ],
      "execution_count": 6,
      "outputs": []
    },
    {
      "cell_type": "markdown",
      "metadata": {
        "id": "zYd86L6l6LR_"
      },
      "source": [
        "## array 정의 및 생성"
      ]
    },
    {
      "cell_type": "code",
      "metadata": {
        "id": "iYL2w7ZH6OvI",
        "colab": {
          "base_uri": "https://localhost:8080/"
        },
        "outputId": "677b737f-ac24-419b-d08e-2876f7096e3b"
      },
      "source": [
        "# 넘파이 array를 사용하여 a라는 변수에 1부터 10까지의 숫자 리스트 배열을 생성하기\n",
        "a  = np.array([1,2,3,4,5,6,7,8,9,10])\n",
        "print(ar1)"
      ],
      "execution_count": 47,
      "outputs": [
        {
          "output_type": "stream",
          "text": [
            "[ 1  2  3  4  5  6  7  8  9 10]\n"
          ],
          "name": "stdout"
        }
      ]
    },
    {
      "cell_type": "code",
      "metadata": {
        "id": "WUOwTypoBPRC",
        "colab": {
          "base_uri": "https://localhost:8080/"
        },
        "outputId": "4b07fac6-6a1a-4e26-dd70-23202c4c7180"
      },
      "source": [
        "#파이썬의 기본 range 함수와 비슷한 넘파이 range 함수를 사용하여 ndarray를 만들 수 있습니다:\n",
        "ndarray = np.arange(10)\n",
        "print(ndarray)"
      ],
      "execution_count": 9,
      "outputs": [
        {
          "output_type": "stream",
          "text": [
            "[0 1 2 3 4 5 6 7 8 9]\n"
          ],
          "name": "stdout"
        }
      ]
    },
    {
      "cell_type": "markdown",
      "metadata": {
        "id": "FOK4pK-I6pDn"
      },
      "source": [
        "## 배열 구성"
      ]
    },
    {
      "cell_type": "code",
      "metadata": {
        "id": "ocsVMvGT6rcJ",
        "colab": {
          "base_uri": "https://localhost:8080/"
        },
        "outputId": "fe92d2e0-13a8-488f-b018-19105f582dc1"
      },
      "source": [
        "# full 함수를 사용하여 b라는 변수에 2.71 수로 3 X 4 다차원 배열 만들기\n",
        "b=np.full((3,4),2.71)\n",
        "print(ar2)"
      ],
      "execution_count": 32,
      "outputs": [
        {
          "output_type": "stream",
          "text": [
            "[[2.71 2.71 2.71 2.71]\n",
            " [2.71 2.71 2.71 2.71]\n",
            " [2.71 2.71 2.71 2.71]]\n"
          ],
          "name": "stdout"
        }
      ]
    },
    {
      "cell_type": "code",
      "metadata": {
        "id": "ReJJ53HV6_5k",
        "colab": {
          "base_uri": "https://localhost:8080/"
        },
        "outputId": "2a3c34bf-45e3-4a17-8694-3d7cec556492"
      },
      "source": [
        "# arrange 함수를 사용하여 c라는 변수에 0부터 10까지 짝수만 있는 배열 구성하기\n",
        "c = np.arange(0,11,2)\n",
        "print(ar3)"
      ],
      "execution_count": 33,
      "outputs": [
        {
          "output_type": "stream",
          "text": [
            "[ 0  2  4  6  8 10]\n"
          ],
          "name": "stdout"
        }
      ]
    },
    {
      "cell_type": "code",
      "metadata": {
        "id": "UiHHzUCn7ak9",
        "colab": {
          "base_uri": "https://localhost:8080/"
        },
        "outputId": "feec42af-e4f1-48a9-b55c-52b06f762596"
      },
      "source": [
        "# linespace 함수를 사용하여 d라는 변수에 0부터 1까지 4개 요소 값을 가진 배열 생성하\n",
        "d = np.linspace(0,1,4)\n",
        "print(d)"
      ],
      "execution_count": 18,
      "outputs": [
        {
          "output_type": "stream",
          "text": [
            "[0.         0.33333333 0.66666667 1.        ]\n"
          ],
          "name": "stdout"
        }
      ]
    },
    {
      "cell_type": "code",
      "metadata": {
        "id": "cgqpObYO7m_o",
        "colab": {
          "base_uri": "https://localhost:8080/"
        },
        "outputId": "f373b7c5-8832-4242-f27c-8d5eb14abb75"
      },
      "source": [
        "# randint 함수를 사용하여 0 부터 100까지 수를 2 X 2 배열로 생성하기\n",
        "ran= np.random.randint(0,100,size=(2,2))\n",
        "print(ran)"
      ],
      "execution_count": 30,
      "outputs": [
        {
          "output_type": "stream",
          "text": [
            "[[78 50]\n",
            " [47 31]]\n"
          ],
          "name": "stdout"
        }
      ]
    },
    {
      "cell_type": "markdown",
      "metadata": {
        "id": "gmqrBmjV8I_q"
      },
      "source": [
        "## 배열 인덱싱"
      ]
    },
    {
      "cell_type": "code",
      "metadata": {
        "id": "u1YDX-907tCM",
        "colab": {
          "base_uri": "https://localhost:8080/"
        },
        "outputId": "fdce73c6-acbe-43cd-946a-eac5189b6a3a"
      },
      "source": [
        "# a변수에서 인덱스 2 (앞에서 3번째) 와 인덱스 -3 (뒤에서 3번째)에 해당하는 수 가져오기\n",
        "print(a[2],a[-3])"
      ],
      "execution_count": 37,
      "outputs": [
        {
          "output_type": "stream",
          "text": [
            "3 8\n"
          ],
          "name": "stdout"
        }
      ]
    },
    {
      "cell_type": "code",
      "metadata": {
        "id": "09OUlcP98IFO",
        "colab": {
          "base_uri": "https://localhost:8080/"
        },
        "outputId": "db3da96b-9b3b-4229-ea6f-bcf79654d22a"
      },
      "source": [
        "# a 변수에서 인덱스 3부터 9 까지 슬라이싱하기\n",
        "a[3:9]"
      ],
      "execution_count": 49,
      "outputs": [
        {
          "output_type": "execute_result",
          "data": {
            "text/plain": [
              "array([4, 5, 6, 7, 8, 9])"
            ]
          },
          "metadata": {
            "tags": []
          },
          "execution_count": 49
        }
      ]
    },
    {
      "cell_type": "markdown",
      "metadata": {
        "id": "B7ZsYxD-9BDG"
      },
      "source": [
        "## 배열 재구조화"
      ]
    },
    {
      "cell_type": "code",
      "metadata": {
        "id": "OUDkKScoFwID",
        "colab": {
          "base_uri": "https://localhost:8080/"
        },
        "outputId": "7c861ceb-cbe8-4828-f4c8-4a072dc17345"
      },
      "source": [
        "#차원의 개수 알아보는 함수\n",
        "a.ndim"
      ],
      "execution_count": 58,
      "outputs": [
        {
          "output_type": "execute_result",
          "data": {
            "text/plain": [
              "1"
            ]
          },
          "metadata": {
            "tags": []
          },
          "execution_count": 58
        }
      ]
    },
    {
      "cell_type": "code",
      "metadata": {
        "id": "BAXVPoxoFwUD",
        "colab": {
          "base_uri": "https://localhost:8080/"
        },
        "outputId": "b5283d7f-102c-4ee2-f58a-afcc2b09e726"
      },
      "source": [
        "#차원의 크기 알아보는 함수\n",
        "a.shape"
      ],
      "execution_count": 62,
      "outputs": [
        {
          "output_type": "execute_result",
          "data": {
            "text/plain": [
              "(10,)"
            ]
          },
          "metadata": {
            "tags": []
          },
          "execution_count": 62
        }
      ]
    },
    {
      "cell_type": "code",
      "metadata": {
        "id": "lNaAPxjqGc8f",
        "colab": {
          "base_uri": "https://localhost:8080/"
        },
        "outputId": "2168aa04-5b97-461b-d1c4-473357b9e34b"
      },
      "source": [
        "#전체 배열크기 알아보는 함수\n",
        "a.size"
      ],
      "execution_count": 63,
      "outputs": [
        {
          "output_type": "execute_result",
          "data": {
            "text/plain": [
              "10"
            ]
          },
          "metadata": {
            "tags": []
          },
          "execution_count": 63
        }
      ]
    },
    {
      "cell_type": "code",
      "metadata": {
        "id": "LpmpluGdGG8T",
        "colab": {
          "base_uri": "https://localhost:8080/"
        },
        "outputId": "d8adbf7e-ab1c-41aa-a1a1-a748f3aaec0c"
      },
      "source": [
        "#0부터10까지 정수를 가진 x변수에서 4~7까지의 요소를 가진 하위배열생성\n",
        "x=np.arange(10)\n",
        "x[4:8]"
      ],
      "execution_count": 65,
      "outputs": [
        {
          "output_type": "execute_result",
          "data": {
            "text/plain": [
              "array([4, 5, 6, 7])"
            ]
          },
          "metadata": {
            "tags": []
          },
          "execution_count": 65
        }
      ]
    },
    {
      "cell_type": "code",
      "metadata": {
        "id": "vosKsX6-GHD6",
        "colab": {
          "base_uri": "https://localhost:8080/"
        },
        "outputId": "477fbd9c-df16-4d8e-e682-bae5f48db049"
      },
      "source": [
        "#0부터10까지 정수를 가진 x변수에서 첫번째 다섯 요소를 가진 하위 배열 생성\n",
        "x[:5]"
      ],
      "execution_count": 67,
      "outputs": [
        {
          "output_type": "execute_result",
          "data": {
            "text/plain": [
              "array([0, 1, 2, 3, 4])"
            ]
          },
          "metadata": {
            "tags": []
          },
          "execution_count": 67
        }
      ]
    },
    {
      "cell_type": "code",
      "metadata": {
        "id": "mEW2HOOSHBar",
        "colab": {
          "base_uri": "https://localhost:8080/"
        },
        "outputId": "eec86aad-8f44-43da-837b-4a016debba1f"
      },
      "source": [
        "#0부터10까지 정수를 가진 x변수에서 인덱스 5 이후의 요소를 가진 하위 배열을 생성\n",
        "x[5:]"
      ],
      "execution_count": 68,
      "outputs": [
        {
          "output_type": "execute_result",
          "data": {
            "text/plain": [
              "array([5, 6, 7, 8, 9])"
            ]
          },
          "metadata": {
            "tags": []
          },
          "execution_count": 68
        }
      ]
    },
    {
      "cell_type": "code",
      "metadata": {
        "id": "TD0eKXKOHFiq",
        "colab": {
          "base_uri": "https://localhost:8080/"
        },
        "outputId": "f3759eda-3e30-4cff-963b-7d4211c68cb7"
      },
      "source": [
        "# 인덱스 0,1행과 인덱스 0,1,2열 즉 2행3열인 다차원 하위 배열 생성(콤마이용하기)\n",
        "arr =  np.array([[0,1],[0,1,2]])\n",
        "print(arr)"
      ],
      "execution_count": 93,
      "outputs": [
        {
          "output_type": "stream",
          "text": [
            "[list([0, 1]) list([0, 1, 2])]\n"
          ],
          "name": "stdout"
        },
        {
          "output_type": "stream",
          "text": [
            "/usr/local/lib/python3.7/dist-packages/ipykernel_launcher.py:2: VisibleDeprecationWarning: Creating an ndarray from ragged nested sequences (which is a list-or-tuple of lists-or-tuples-or ndarrays with different lengths or shapes) is deprecated. If you meant to do this, you must specify 'dtype=object' when creating the ndarray\n",
            "  \n"
          ],
          "name": "stderr"
        }
      ]
    },
    {
      "cell_type": "code",
      "metadata": {
        "id": "uqvnK_MqHSjX",
        "colab": {
          "base_uri": "https://localhost:8080/"
        },
        "outputId": "06f649dd-3f96-413e-e7f0-f2d4f58982e3"
      },
      "source": [
        "#1부터 10까지 배열을 3행3열로 재배열하기(reshape사용)\n",
        "xx= np.arange(1,10)\n",
        "xx1= xx.reshape(3,3)\n",
        "print(xx1)"
      ],
      "execution_count": 102,
      "outputs": [
        {
          "output_type": "stream",
          "text": [
            "[[1 2 3]\n",
            " [4 5 6]\n",
            " [7 8 9]]\n"
          ],
          "name": "stdout"
        }
      ]
    },
    {
      "cell_type": "markdown",
      "metadata": {
        "id": "Fe5b8TCo9CUi"
      },
      "source": [
        "## 배열 결합"
      ]
    },
    {
      "cell_type": "code",
      "metadata": {
        "id": "nkYF1XetHZFA"
      },
      "source": [
        "#두개의 배열 결합하기"
      ],
      "execution_count": null,
      "outputs": []
    },
    {
      "cell_type": "code",
      "metadata": {
        "id": "NObVaN04Hbt8"
      },
      "source": [
        "#수직으로 두개의 배열 결합하기\n",
        "#Vstack"
      ],
      "execution_count": null,
      "outputs": []
    },
    {
      "cell_type": "code",
      "metadata": {
        "id": "NFQ0_cEjHkCy"
      },
      "source": [
        "#수평으로 두개의 배열 결합하기\n",
        "#hstck"
      ],
      "execution_count": null,
      "outputs": []
    },
    {
      "cell_type": "markdown",
      "metadata": {
        "id": "vNpmxjef9EiC"
      },
      "source": [
        "## 배열 분할"
      ]
    },
    {
      "cell_type": "code",
      "metadata": {
        "id": "XBu15lZ7Hxzu",
        "colab": {
          "base_uri": "https://localhost:8080/"
        },
        "outputId": "04ec0471-494a-4406-a8fe-55b218bced42"
      },
      "source": [
        "#7개의 숫자를 가진 리스트 x를 3개의 변수 x1,x2,x3로 분할하기\n",
        "x = np.array([1,2,3,4,5,6,7])\n",
        "x1,x2,x3=np.split(x,[3,5])\n",
        "print(x1,x2,x3)"
      ],
      "execution_count": 89,
      "outputs": [
        {
          "output_type": "stream",
          "text": [
            "[1 2 3] [4 5] [6 7]\n"
          ],
          "name": "stdout"
        }
      ]
    },
    {
      "cell_type": "code",
      "metadata": {
        "id": "XdklCHyCHx75",
        "colab": {
          "base_uri": "https://localhost:8080/"
        },
        "outputId": "83f50f45-365a-41ae-87c6-f1ee87eb5844"
      },
      "source": [
        "#4행4열 차원을 배열이 상하 2개로 나누게 분할\n",
        "xx2= np.arange(1,17)\n",
        "xx3= xx2.reshape(4,4)\n",
        "upper,lower=np.vsplit(xx3,[2])\n",
        "print(upper,lower)"
      ],
      "execution_count": 106,
      "outputs": [
        {
          "output_type": "stream",
          "text": [
            "[[1 2 3 4]\n",
            " [5 6 7 8]] [[ 9 10 11 12]\n",
            " [13 14 15 16]]\n"
          ],
          "name": "stdout"
        }
      ]
    },
    {
      "cell_type": "markdown",
      "metadata": {
        "id": "dDE6Ap4n9S28"
      },
      "source": [
        "# Numpy 심화"
      ]
    },
    {
      "cell_type": "markdown",
      "metadata": {
        "id": "uH4cKovY9Whm"
      },
      "source": [
        "## 유니버셜함수"
      ]
    },
    {
      "cell_type": "code",
      "metadata": {
        "id": "4GAlLhUiAz13",
        "colab": {
          "base_uri": "https://localhost:8080/"
        },
        "outputId": "2baf5790-7186-4e84-eec6-add6c2385dc5"
      },
      "source": [
        "# zeros 함수는 0으로 채워진 배열을 만듭니다:\n",
        "np.zeros(5)"
      ],
      "execution_count": 107,
      "outputs": [
        {
          "output_type": "execute_result",
          "data": {
            "text/plain": [
              "array([0., 0., 0., 0., 0.])"
            ]
          },
          "metadata": {
            "tags": []
          },
          "execution_count": 107
        }
      ]
    },
    {
      "cell_type": "code",
      "metadata": {
        "id": "3vxe2YivA18-",
        "colab": {
          "base_uri": "https://localhost:8080/"
        },
        "outputId": "2e9aeb02-b4ba-4694-a5ed-eb4c9ffdc706"
      },
      "source": [
        "#2D 배열(즉, 행렬)을 만들려면 원하는 행과 열의 크기를 튜플로 전달합니다. 예를 들어 다음은 3 \\times 4 크기의 행렬입니다:\n",
        "\n",
        "np.zeros((3,4))"
      ],
      "execution_count": 108,
      "outputs": [
        {
          "output_type": "execute_result",
          "data": {
            "text/plain": [
              "array([[0., 0., 0., 0.],\n",
              "       [0., 0., 0., 0.],\n",
              "       [0., 0., 0., 0.]])"
            ]
          },
          "metadata": {
            "tags": []
          },
          "execution_count": 108
        }
      ]
    },
    {
      "cell_type": "code",
      "metadata": {
        "id": "vUJHEN_FA6By",
        "colab": {
          "base_uri": "https://localhost:8080/"
        },
        "outputId": "87e4efbd-6bb4-4d4a-cc9d-3c02e5560aa3"
      },
      "source": [
        "a = np.zeros((3,4))\n",
        "a"
      ],
      "execution_count": 109,
      "outputs": [
        {
          "output_type": "execute_result",
          "data": {
            "text/plain": [
              "array([[0., 0., 0., 0.],\n",
              "       [0., 0., 0., 0.],\n",
              "       [0., 0., 0., 0.]])"
            ]
          },
          "metadata": {
            "tags": []
          },
          "execution_count": 109
        }
      ]
    },
    {
      "cell_type": "code",
      "metadata": {
        "id": "mzrutOYyA8CS",
        "colab": {
          "base_uri": "https://localhost:8080/"
        },
        "outputId": "bfd3a965-981c-4975-f102-22f7ca0f95b1"
      },
      "source": [
        "a.shape"
      ],
      "execution_count": 110,
      "outputs": [
        {
          "output_type": "execute_result",
          "data": {
            "text/plain": [
              "(3, 4)"
            ]
          },
          "metadata": {
            "tags": []
          },
          "execution_count": 110
        }
      ]
    },
    {
      "cell_type": "code",
      "metadata": {
        "id": "Knsc4SCPA9FI",
        "colab": {
          "base_uri": "https://localhost:8080/"
        },
        "outputId": "5215c433-88d1-488c-df85-7c7754119c3a"
      },
      "source": [
        "a.ndim # len(a.shape)와 같습니다"
      ],
      "execution_count": 111,
      "outputs": [
        {
          "output_type": "execute_result",
          "data": {
            "text/plain": [
              "2"
            ]
          },
          "metadata": {
            "tags": []
          },
          "execution_count": 111
        }
      ]
    },
    {
      "cell_type": "code",
      "metadata": {
        "id": "sq0vJhlgA-M3",
        "colab": {
          "base_uri": "https://localhost:8080/"
        },
        "outputId": "1d14de2f-4225-448e-bae0-3a9575eaa70b"
      },
      "source": [
        "a.size"
      ],
      "execution_count": 112,
      "outputs": [
        {
          "output_type": "execute_result",
          "data": {
            "text/plain": [
              "12"
            ]
          },
          "metadata": {
            "tags": []
          },
          "execution_count": 112
        }
      ]
    },
    {
      "cell_type": "code",
      "metadata": {
        "id": "g_i6UPINA_8o",
        "colab": {
          "base_uri": "https://localhost:8080/"
        },
        "outputId": "fc042c27-4c0b-4264-99c1-b099df66a98c"
      },
      "source": [
        "# 초기화되지 않은 2 \\times 3 크기의 배열을 만듭니다(배열의 내용은 예측이 불가능하며 메모리 상황에 따라 달라집니다):\n",
        "\n",
        "np.empty((2,3))"
      ],
      "execution_count": 113,
      "outputs": [
        {
          "output_type": "execute_result",
          "data": {
            "text/plain": [
              "array([[4.64575478e-310, 0.00000000e+000, 0.00000000e+000],\n",
              "       [0.00000000e+000, 0.00000000e+000, 0.00000000e+000]])"
            ]
          },
          "metadata": {
            "tags": []
          },
          "execution_count": 113
        }
      ]
    },
    {
      "cell_type": "code",
      "metadata": {
        "id": "PTCzRhCiBAyo",
        "colab": {
          "base_uri": "https://localhost:8080/"
        },
        "outputId": "d7affbfb-e357-4201-ba96-d2412352b072"
      },
      "source": [
        "#array 함수는 파이썬 리스트를 사용하여 ndarray를 초기화합니다:\n",
        "\n",
        "np.array([[1,2,3,4], [10, 20, 30, 40]])"
      ],
      "execution_count": 114,
      "outputs": [
        {
          "output_type": "execute_result",
          "data": {
            "text/plain": [
              "array([[ 1,  2,  3,  4],\n",
              "       [10, 20, 30, 40]])"
            ]
          },
          "metadata": {
            "tags": []
          },
          "execution_count": 114
        }
      ]
    },
    {
      "cell_type": "code",
      "metadata": {
        "id": "dAU3-6CV9u3R"
      },
      "source": [
        "# x = np.array([-10, -5, 0, 3, 7])\n",
        "# x에 있는 배열을 모두 양의 정수로 반환하기"
      ],
      "execution_count": null,
      "outputs": []
    },
    {
      "cell_type": "code",
      "metadata": {
        "id": "xrZfT0dH-J4X"
      },
      "source": [
        "# 모두 양의 정수가 된 배열 x를 자연로그 배열로 반환하기"
      ],
      "execution_count": null,
      "outputs": []
    },
    {
      "cell_type": "markdown",
      "metadata": {
        "id": "wQ14Cr7W9ZNP"
      },
      "source": [
        "## 집계함수"
      ]
    },
    {
      "cell_type": "code",
      "metadata": {
        "id": "VQgkBEIDC5er",
        "colab": {
          "base_uri": "https://localhost:8080/"
        },
        "outputId": "bb79d40c-aff8-4be5-be4d-e6d6646b77d8"
      },
      "source": [
        "x=np.array([-2,-1,0,1,2])\n",
        "\"절댓값을 씌우려면?\"\n",
        "힌트: \"np.absolute(x)\"\n",
        "print(np.absolute(x))"
      ],
      "execution_count": 115,
      "outputs": [
        {
          "output_type": "stream",
          "text": [
            "[2 1 0 1 2]\n"
          ],
          "name": "stdout"
        }
      ]
    },
    {
      "cell_type": "code",
      "metadata": {
        "id": "yGy7cRtmC6AA",
        "colab": {
          "base_uri": "https://localhost:8080/"
        },
        "outputId": "bb633b79-c19a-4e72-e67f-722db350cb90"
      },
      "source": [
        "#삼각함수\n",
        "theta = np.linspace(0,np.pi,3)\n",
        "print(\"theta=\" , theta)\n",
        "print(\" 코사인 함수 =\", \"cos\")\n",
        "print(\"탐젠트 함수= \", \"tan\") \n",
        "\n"
      ],
      "execution_count": 117,
      "outputs": [
        {
          "output_type": "stream",
          "text": [
            "theta= [0.         1.57079633 3.14159265]\n",
            " 코사인 함수 = cos\n",
            "탐젠트 함수=  tan\n"
          ],
          "name": "stdout"
        }
      ]
    },
    {
      "cell_type": "code",
      "metadata": {
        "id": "XCvqtkfdC6DQ",
        "colab": {
          "base_uri": "https://localhost:8080/"
        },
        "outputId": "ee576fc1-094a-4523-b5af-05228b66bf79"
      },
      "source": [
        "#역삼각함수\n",
        "print(\"역 사인함수=\",\"arcsin\")\n",
        "print(\"역 코사인함수=\",\"arccos\")\n",
        "print(\"역 탄젠트함수=\",\"arctan\")"
      ],
      "execution_count": 118,
      "outputs": [
        {
          "output_type": "stream",
          "text": [
            "역 사인함수= arcsin\n",
            "역 코사인함수= arccos\n",
            "역 탄젠트함수= arctan\n"
          ],
          "name": "stdout"
        }
      ]
    },
    {
      "cell_type": "code",
      "metadata": {
        "id": "Bz4GuB0sC6IE",
        "colab": {
          "base_uri": "https://localhost:8080/"
        },
        "outputId": "37c01104-010f-41bb-a3f6-b8f674168201"
      },
      "source": [
        "#로그함수\n",
        "x=[1,2,4,10]\n",
        "print(\"자연로그=\",\"exp\")\n",
        "print(\"밑이2인 로그함수=\",\"log2\")\n",
        "print(\"밑이 10인 로그함수=\",\"log10\")"
      ],
      "execution_count": 119,
      "outputs": [
        {
          "output_type": "stream",
          "text": [
            "자연로그= exp\n",
            "밑이2인 로그함수= log2\n",
            "밑이 10인 로그함수= log10\n"
          ],
          "name": "stdout"
        }
      ]
    },
    {
      "cell_type": "code",
      "metadata": {
        "id": "mYPwcUsvC6Ls",
        "colab": {
          "base_uri": "https://localhost:8080/"
        },
        "outputId": "368b5a12-3371-44eb-fcf4-f9712056ea45"
      },
      "source": [
        "#지수함수\n",
        "x=[1,2,3]\n",
        "print(\"e^x=\",\"exp(x)\")\n",
        "print(\"2^x\",\"exp2(x)\")\n",
        "print(\"3^x=\",\"exp3(x)\")"
      ],
      "execution_count": 120,
      "outputs": [
        {
          "output_type": "stream",
          "text": [
            "e^x= exp(x)\n",
            "2^x exp2(x)\n",
            "3^x= exp3(x)\n"
          ],
          "name": "stdout"
        }
      ]
    },
    {
      "cell_type": "code",
      "metadata": {
        "id": "TIhmzJunC6PJ",
        "colab": {
          "base_uri": "https://localhost:8080/"
        },
        "outputId": "7d00cc20-2b14-4884-ee0b-5d3a28b14db0"
      },
      "source": [
        "#out 인자 \n",
        "x=np.arange(5)\n",
        "y=np.empty(5)\n",
        "\"np.multiply(x,10,out=y)\"\n",
        "print(y)"
      ],
      "execution_count": 121,
      "outputs": [
        {
          "output_type": "stream",
          "text": [
            "[1.e-323 5.e-324 0.e+000 5.e-324 1.e-323]\n"
          ],
          "name": "stdout"
        }
      ]
    },
    {
      "cell_type": "code",
      "metadata": {
        "id": "7Xjkz_DiC6SQ",
        "colab": {
          "base_uri": "https://localhost:8080/"
        },
        "outputId": "3da4364d-c200-4b8d-aa17-a4f5ee48e77f"
      },
      "source": [
        "#out 인자를 활용하여 배열 슬라이싱\n",
        "x=np.arange(5)\n",
        "y=np.empty(10)\n",
        "\"np.power(2,x,out=y[::2])\"\n",
        "print(y)"
      ],
      "execution_count": 122,
      "outputs": [
        {
          "output_type": "stream",
          "text": [
            "[0.0e+000 4.9e-324 9.9e-324 1.5e-323 2.0e-323 2.5e-323 3.0e-323 3.5e-323\n",
            " 4.0e-323 4.4e-323]\n"
          ],
          "name": "stdout"
        }
      ]
    },
    {
      "cell_type": "code",
      "metadata": {
        "id": "iE_xW8KzDBof",
        "colab": {
          "base_uri": "https://localhost:8080/",
          "height": 35
        },
        "outputId": "c538a5ea-5297-4781-fd6b-9936831320c7"
      },
      "source": [
        "#reduce 함수\n",
        "x=np.arange(1,5)\n",
        "\"np.add.reduce(x)\""
      ],
      "execution_count": 123,
      "outputs": [
        {
          "output_type": "execute_result",
          "data": {
            "application/vnd.google.colaboratory.intrinsic+json": {
              "type": "string"
            },
            "text/plain": [
              "'np.add.reduce(x)'"
            ]
          },
          "metadata": {
            "tags": []
          },
          "execution_count": 123
        }
      ]
    },
    {
      "cell_type": "code",
      "metadata": {
        "id": "QfZWyUi1DCJd",
        "colab": {
          "base_uri": "https://localhost:8080/"
        },
        "outputId": "5f7ec19c-9f48-40c3-e005-b17e0796ca05"
      },
      "source": [
        "#sum,max,min함수\n",
        "s=np.random.random(1000)\n",
        "print(\"s의최솟값=\",\"np.min(s)\")\n",
        "print(\"s의최댓값=\",\"np.max(s)\")\n"
      ],
      "execution_count": 124,
      "outputs": [
        {
          "output_type": "stream",
          "text": [
            "s의최솟값= np.min(s)\n",
            "s의최댓값= np.max(s)\n"
          ],
          "name": "stdout"
        }
      ]
    },
    {
      "cell_type": "code",
      "metadata": {
        "id": "4PzwblvNDCMy",
        "colab": {
          "base_uri": "https://localhost:8080/",
          "height": 35
        },
        "outputId": "89ae7ca0-cb56-478d-8b5b-26a2ba02cdc0"
      },
      "source": [
        "#axis 인자\n",
        "\"axis=0: 열기준 집계연산\"\n",
        "\"axis=1: 행기준 집계연산\"\n",
        "\"axis=none: 배열 내 모든 요소의 집계연산axis 인자\""
      ],
      "execution_count": 125,
      "outputs": [
        {
          "output_type": "execute_result",
          "data": {
            "application/vnd.google.colaboratory.intrinsic+json": {
              "type": "string"
            },
            "text/plain": [
              "'axis=none: 배열 내 모든 요소의 집계연산axis 인자'"
            ]
          },
          "metadata": {
            "tags": []
          },
          "execution_count": 125
        }
      ]
    },
    {
      "cell_type": "code",
      "metadata": {
        "id": "K51SaedIDCSr",
        "colab": {
          "base_uri": "https://localhost:8080/"
        },
        "outputId": "b266a37a-58c5-42ad-eb2a-9d99edd04ec1"
      },
      "source": [
        "m= np.random.random((3,4))\n",
        "print(m)"
      ],
      "execution_count": 126,
      "outputs": [
        {
          "output_type": "stream",
          "text": [
            "[[0.62178893 0.9184394  0.92138359 0.77855607]\n",
            " [0.24979264 0.21984858 0.6148996  0.66516016]\n",
            " [0.74597658 0.04165035 0.68873255 0.69569308]]\n"
          ],
          "name": "stdout"
        }
      ]
    },
    {
      "cell_type": "markdown",
      "metadata": {
        "id": "l7VYaxRL9agA"
      },
      "source": [
        "## 브로드캐스팅 연산"
      ]
    },
    {
      "cell_type": "code",
      "metadata": {
        "id": "xHRGT0S7DTYe",
        "colab": {
          "base_uri": "https://localhost:8080/"
        },
        "outputId": "a5d5f256-47d6-453c-9cce-c01a4119e285"
      },
      "source": [
        "# 크기가 같은 어레이의 연산을 하기\n",
        "XX = np.array([0,1,2])\n",
        "MM = np.ones((3,3))\n",
        "XX + MM"
      ],
      "execution_count": 127,
      "outputs": [
        {
          "output_type": "execute_result",
          "data": {
            "text/plain": [
              "array([[1., 2., 3.],\n",
              "       [1., 2., 3.],\n",
              "       [1., 2., 3.]])"
            ]
          },
          "metadata": {
            "tags": []
          },
          "execution_count": 127
        }
      ]
    },
    {
      "cell_type": "code",
      "metadata": {
        "id": "NVI4DOqKDTgp",
        "colab": {
          "base_uri": "https://localhost:8080/"
        },
        "outputId": "3b35bcd9-f801-405b-e356-4d0ad64733a3"
      },
      "source": [
        "# 배열의 크기를 늘려서 연산하기\n",
        "XX1 = np.array([0,1,2,3])\n",
        "MM2 = np.ones((4,4))\n",
        "XX1 + MM2"
      ],
      "execution_count": 129,
      "outputs": [
        {
          "output_type": "execute_result",
          "data": {
            "text/plain": [
              "array([[1., 2., 3., 4.],\n",
              "       [1., 2., 3., 4.],\n",
              "       [1., 2., 3., 4.],\n",
              "       [1., 2., 3., 4.]])"
            ]
          },
          "metadata": {
            "tags": []
          },
          "execution_count": 129
        }
      ]
    },
    {
      "cell_type": "markdown",
      "metadata": {
        "id": "iwnH05_R9cFv"
      },
      "source": [
        "## 비교연산자"
      ]
    },
    {
      "cell_type": "code",
      "metadata": {
        "id": "wlaHQtWIDTjx",
        "colab": {
          "base_uri": "https://localhost:8080/"
        },
        "outputId": "8ae33aea-e480-4b41-db57-ad6e8b39368c"
      },
      "source": [
        "# any 함수를 이용하여 하나라도 만족하면 true를 산출하는 코드만들기\n",
        "print(any([False,True]))"
      ],
      "execution_count": 131,
      "outputs": [
        {
          "output_type": "stream",
          "text": [
            "True\n"
          ],
          "name": "stdout"
        }
      ]
    },
    {
      "cell_type": "code",
      "metadata": {
        "id": "D-OgFcn5DSjM",
        "colab": {
          "base_uri": "https://localhost:8080/"
        },
        "outputId": "edf2faef-c521-47eb-b781-a4e172dbf60c"
      },
      "source": [
        "# all함수를 이용하여 true산출 코드 만들기\n",
        "print(all([True,True]))"
      ],
      "execution_count": 135,
      "outputs": [
        {
          "output_type": "stream",
          "text": [
            "True\n"
          ],
          "name": "stdout"
        }
      ]
    },
    {
      "cell_type": "code",
      "metadata": {
        "id": "JzbeCfBnDSqm",
        "colab": {
          "base_uri": "https://localhost:8080/"
        },
        "outputId": "b4b84003-3707-442d-c693-0732bfe932a1"
      },
      "source": [
        "# 1~5사이의 구간에서 5개 정수를 무작위로 발생시켜 1차원배열 2개변수를 생성하고 이에대한 불리언 값 결과내기\n",
        "ran1= np.random.randint(1,5,2)\n",
        "print(1 in ran1,\"random:\",ran1)"
      ],
      "execution_count": 148,
      "outputs": [
        {
          "output_type": "stream",
          "text": [
            "False random: [2 2]\n"
          ],
          "name": "stdout"
        }
      ]
    },
    {
      "cell_type": "markdown",
      "metadata": {
        "id": "cvNr6-5O9fLA"
      },
      "source": [
        "## 팬시 인덱싱"
      ]
    },
    {
      "cell_type": "code",
      "metadata": {
        "id": "t7MWDGDEDSuE"
      },
      "source": [
        "#배열을 생성하여 인덱싱하기\n",
        "index1=np.arange(10)"
      ],
      "execution_count": 154,
      "outputs": []
    },
    {
      "cell_type": "code",
      "metadata": {
        "id": "ipMA6b3uDSxP",
        "colab": {
          "base_uri": "https://localhost:8080/"
        },
        "outputId": "3b68d074-cd68-41b9-8735-d11f169df358"
      },
      "source": [
        "#인덱스 값을 가진 2차원 배열(예를 들어 row=np.array([0,1,2]))을 이용하여 인덱싱\n",
        "index2=np.array([[3,6,9],[2,4,8]])\n",
        "print(index2)"
      ],
      "execution_count": 153,
      "outputs": [
        {
          "output_type": "stream",
          "text": [
            "[[3 6 9]\n",
            " [2 4 8]]\n"
          ],
          "name": "stdout"
        }
      ]
    },
    {
      "cell_type": "markdown",
      "metadata": {
        "id": "fIFQzEK89gjy"
      },
      "source": [
        "## 정렬 "
      ]
    },
    {
      "cell_type": "code",
      "metadata": {
        "id": "8-vycEUGE0G2",
        "colab": {
          "base_uri": "https://localhost:8080/"
        },
        "outputId": "e9fe2baf-16e7-4b11-889f-4d7d7ab56de7"
      },
      "source": [
        "#np.sort함수를 이용하여 복사하기\n",
        "copy1 = np.array([3,4,5,2,1,8,6])\n",
        "copy2 = np.sort(copy1)\n",
        "print(copy2)"
      ],
      "execution_count": 158,
      "outputs": [
        {
          "output_type": "stream",
          "text": [
            "[1 2 3 4 5 6 8]\n"
          ],
          "name": "stdout"
        }
      ]
    },
    {
      "cell_type": "code",
      "metadata": {
        "id": "WzF6Iw5HE76_"
      },
      "source": [
        "#변수.sort함수를 이용하여 정렬하기\n",
        "copy1 = np.array([3,4,5,2,1,8,6])\n",
        "copy2 = np.sort(copy1)"
      ],
      "execution_count": null,
      "outputs": []
    },
    {
      "cell_type": "code",
      "metadata": {
        "id": "b1regsEqE7-X",
        "colab": {
          "base_uri": "https://localhost:8080/"
        },
        "outputId": "6786c829-bcce-4288-ccaa-aeb9aceb7111"
      },
      "source": [
        "#np.arsort함수 이용하여 정렬 요소의 인덱스를 반환하기\n",
        "np.argsort(copy1)"
      ],
      "execution_count": 160,
      "outputs": [
        {
          "output_type": "execute_result",
          "data": {
            "text/plain": [
              "array([4, 3, 0, 1, 2, 6, 5])"
            ]
          },
          "metadata": {
            "tags": []
          },
          "execution_count": 160
        }
      ]
    },
    {
      "cell_type": "code",
      "metadata": {
        "id": "glpi3sAWE8Bw"
      },
      "source": [
        "#x_reverse를 이용하여 내림차순"
      ],
      "execution_count": 176,
      "outputs": []
    },
    {
      "cell_type": "code",
      "metadata": {
        "id": "HBsSfJFyFRai"
      },
      "source": [
        "#axis를 이용하여 각 열을 기준으로 정렬하기"
      ],
      "execution_count": null,
      "outputs": []
    },
    {
      "cell_type": "code",
      "metadata": {
        "id": "yav7laqrFWjP"
      },
      "source": [
        "#axis를 이용하여 각 행을 기준으로 정렬하기#axis를 이용하여 각 행을 기준으로 정렬하기"
      ],
      "execution_count": null,
      "outputs": []
    }
  ]
}